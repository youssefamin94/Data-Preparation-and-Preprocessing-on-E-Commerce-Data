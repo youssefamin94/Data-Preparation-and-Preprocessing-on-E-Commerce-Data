{
 "cells": [
  {
   "cell_type": "code",
   "execution_count": 1,
   "id": "663db1f9",
   "metadata": {},
   "outputs": [],
   "source": [
    "import pandas as pd\n",
    "import seaborn as sns\n",
    "dataset = pd.read_csv('Data 1.csv')\n",
    "dataset2 = pd.read_csv('Data 2.csv')\n",
    "combined_data = pd.concat([dataset, dataset2], ignore_index=True)"
   ]
  },
  {
   "cell_type": "markdown",
   "id": "20866838",
   "metadata": {},
   "source": [
    "Customer Loyalty is the likelihood that existing and previous customers continue purchasing from the same company in our case an e-commerce website.\n",
    "\n",
    "It is important for them to retain existing customers. \n",
    "\n",
    "There are many ways companies can boost customer Loyalty.\n",
    "\n",
    "They can:\n",
    "- Maintain overall low prices.\n",
    "- Offer multi-purchase deals. \n",
    "- Have special offers.\n",
    "- They can also reward customers with regular loyalty discounts.  \n",
    "\n",
    "Investing in customer loyalty is more effective than investing in new customers. Studies have shown that it costs significantly more to get new customers than to keep existing, as long-term customers are actually more likely to spend more money with your business than new customers. It makes sense. If they’re happy with one product you make, chances are good that they’ll be happy with another.\n"
   ]
  },
  {
   "cell_type": "markdown",
   "id": "c6b8fea1",
   "metadata": {},
   "source": [
    "# General Metrics "
   ]
  },
  {
   "cell_type": "code",
   "execution_count": 2,
   "id": "a1c9559a",
   "metadata": {},
   "outputs": [],
   "source": [
    "purchase_data_combined = combined_data[combined_data['event_type'] == 'purchase']"
   ]
  },
  {
   "cell_type": "code",
   "execution_count": 3,
   "id": "8d68ae4d",
   "metadata": {},
   "outputs": [
    {
     "name": "stdout",
     "output_type": "stream",
     "text": [
      "The percentage of purchase transactions out of all transactions is 6.500723267705181 %\n"
     ]
    }
   ],
   "source": [
    "perc_purchase = len(purchase_data_combined) / len(combined_data) \n",
    "print(f\"The percentage of purchase transactions out of all transactions is {perc_purchase * 100} %\")"
   ]
  },
  {
   "cell_type": "code",
   "execution_count": 4,
   "id": "abe8858f",
   "metadata": {},
   "outputs": [
    {
     "name": "stdout",
     "output_type": "stream",
     "text": [
      "The number of customers who make purchases is 52523\n",
      "The percentage of customers who make purchases out of all customers is 0.6010789506209573 %\n"
     ]
    }
   ],
   "source": [
    "perc_user_purchase = purchase_data_combined.user_id.nunique() / len(combined_data.user_id) \n",
    "\n",
    "print(f\"The number of customers who make purchases is {purchase_data_combined.user_id.nunique()}\")\n",
    "print(f\"The percentage of customers who make purchases out of all customers is {perc_user_purchase * 100} %\")"
   ]
  },
  {
   "cell_type": "markdown",
   "id": "6bc6cf23",
   "metadata": {},
   "source": [
    "# Customer Lifetime Value (CLTV)"
   ]
  },
  {
   "cell_type": "markdown",
   "id": "50903ba2",
   "metadata": {},
   "source": [
    "Customer Lifetime Value (CLTV): CLTV measures the total value a customer is expected to generate for our business over their entire relationship. It helps us understand the long-term revenue potential of their customer base and enables effective customer segmentation and marketing strategies."
   ]
  },
  {
   "cell_type": "markdown",
   "id": "b55f6d17",
   "metadata": {},
   "source": [
    " CLV=Average Purchase Value×Average Purchase Frequency×Customer Lifespan"
   ]
  },
  {
   "cell_type": "code",
   "execution_count": 5,
   "id": "e4354fda",
   "metadata": {},
   "outputs": [
    {
     "name": "stdout",
     "output_type": "stream",
     "text": [
      "Average Customer Lifetime Value (CLTV):\n",
      "20.402559061585308\n",
      "Customer Lifetime Value (CLTV):\n",
      "user_id\n",
      "1120748       5.209262\n",
      "1458813       6.612091\n",
      "4103071       3.702756\n",
      "5493470       6.700011\n",
      "6217356      10.251313\n",
      "               ...    \n",
      "579967088    18.380335\n",
      "579968012     5.106363\n",
      "579968623    25.153662\n",
      "579968937     9.183736\n",
      "579969854     4.836253\n",
      "Name: price, Length: 713100, dtype: float64\n"
     ]
    }
   ],
   "source": [
    "dataset['event_time'] = pd.to_datetime(dataset['event_time'])\n",
    "\n",
    "purchase_data = dataset[dataset['event_type'] == 'purchase'].copy()\n",
    "\n",
    "# Treat each user_session as a single transaction\n",
    "purchase_data['transaction_id'] = purchase_data.groupby('user_session').ngroup()\n",
    "\n",
    "# Calculate the average purchase price per user_session\n",
    "average_purchase_price_per_session = purchase_data.groupby('transaction_id')['price'].mean().mean()\n",
    "\n",
    "# Calculate the average purchase frequency per customer\n",
    "average_purchase_frequency_per_customer = purchase_data.groupby('user_id')['transaction_id'].nunique().mean()\n",
    "\n",
    "average_purchase_value = combined_data.groupby('user_id')['price'].mean()\n",
    "\n",
    "# Calculate the average purchase frequency per customer\n",
    "average_purchase_frequency_per_customer = purchase_data.groupby('user_id')['transaction_id'].nunique().mean()\n",
    "\n",
    "# Calculate customer lifespan (in this case, let's assume it's the duration between the first and last purchase)\n",
    "customer_lifespan = (purchase_data.groupby('user_id')['event_time'].max() - purchase_data.groupby('user_id')['event_time'].min()).mean()\n",
    "\n",
    "customer_lifespan /= pd.Timedelta(days=1)\n",
    "\n",
    "# Calculate CLV\n",
    "CLV = average_purchase_value * average_purchase_frequency_per_customer * customer_lifespan\n",
    "\n",
    "# Display CLV\n",
    "print(\"Average Customer Lifetime Value (CLTV):\")\n",
    "print(CLV.mean())\n",
    "print(\"Customer Lifetime Value (CLTV):\")\n",
    "print(CLV)"
   ]
  },
  {
   "cell_type": "code",
   "execution_count": 6,
   "id": "f958644a",
   "metadata": {},
   "outputs": [
    {
     "name": "stdout",
     "output_type": "stream",
     "text": [
      "Average Customer Lifetime Value (CLV):\n",
      "23.94267518766466\n",
      "Customer Lifetime Value (CLV):\n",
      "user_id\n",
      "1120748       6.113139\n",
      "1458813       7.759377\n",
      "4103071       4.345234\n",
      "5493470       7.862553\n",
      "6217356      12.030053\n",
      "               ...    \n",
      "579967088    21.569568\n",
      "579968012     5.992385\n",
      "579968623    29.518158\n",
      "579968937    10.777237\n",
      "579969854     5.675408\n",
      "Name: price, Length: 713100, dtype: float64\n"
     ]
    }
   ],
   "source": [
    "dataset2['event_time'] = pd.to_datetime(dataset2['event_time'])\n",
    "\n",
    "\n",
    "purchase_data = dataset2[dataset2['event_type'] == 'purchase'].copy()\n",
    "\n",
    "# Treat each user_session as a single transaction\n",
    "purchase_data['transaction_id'] = purchase_data.groupby('user_session').ngroup()\n",
    "\n",
    "# Calculate the average purchase price per user_session\n",
    "average_purchase_price_per_session = purchase_data.groupby('transaction_id')['price'].mean().mean()\n",
    "\n",
    "# Calculate the average purchase frequency per customer\n",
    "average_purchase_frequency_per_customer = purchase_data.groupby('user_id')['transaction_id'].nunique().mean()\n",
    "\n",
    "average_purchase_value = combined_data.groupby('user_id')['price'].mean()\n",
    "\n",
    "# Calculate the average purchase frequency per customer\n",
    "average_purchase_frequency_per_customer = purchase_data.groupby('user_id')['transaction_id'].nunique().mean()\n",
    "\n",
    "# Calculate customer lifespan (in this case, let's assume it's the duration between the first and last purchase)\n",
    "customer_lifespan = (purchase_data.groupby('user_id')['event_time'].max() - purchase_data.groupby('user_id')['event_time'].min()).mean()\n",
    "\n",
    "customer_lifespan /=  pd.Timedelta(days=1)\n",
    "\n",
    "# Calculate CLV\n",
    "CLV = average_purchase_value * average_purchase_frequency_per_customer * customer_lifespan\n",
    "\n",
    "# Display CLV\n",
    "print(\"Average Customer Lifetime Value (CLV):\")\n",
    "print(CLV.mean())\n",
    "print(\"Customer Lifetime Value (CLV):\")\n",
    "print(CLV)"
   ]
  },
  {
   "cell_type": "code",
   "execution_count": 7,
   "id": "a9f3545a",
   "metadata": {},
   "outputs": [
    {
     "name": "stdout",
     "output_type": "stream",
     "text": [
      "Average Customer Lifetime Value (CLV):\n",
      "76.54042497489938\n",
      "Customer Lifetime Value (CLV):\n",
      "user_id\n",
      "1120748      19.542604\n",
      "1458813      24.805332\n",
      "4103071      13.890931\n",
      "5493470      25.135167\n",
      "6217356      38.457915\n",
      "               ...    \n",
      "579967088    68.954029\n",
      "579968012    19.156578\n",
      "579968623    94.364239\n",
      "579968937    34.452888\n",
      "579969854    18.143257\n",
      "Name: price, Length: 713100, dtype: float64\n"
     ]
    }
   ],
   "source": [
    "combined_data['event_time'] = pd.to_datetime(combined_data['event_time'])\n",
    "\n",
    "\n",
    "purchase_data = combined_data[combined_data['event_type'] == 'purchase'].copy()\n",
    "\n",
    "# Treat each user_session as a single transaction\n",
    "purchase_data['transaction_id'] = purchase_data.groupby('user_session').ngroup()\n",
    "\n",
    "# Calculate the average purchase price per user_session\n",
    "average_purchase_price_per_session = purchase_data.groupby('transaction_id')['price'].mean().mean()\n",
    "\n",
    "# Calculate the average purchase frequency per customer\n",
    "average_purchase_frequency_per_customer = purchase_data.groupby('user_id')['transaction_id'].nunique().mean()\n",
    "\n",
    "average_purchase_value = combined_data.groupby('user_id')['price'].mean()\n",
    "\n",
    "# Calculate the average purchase frequency per customer\n",
    "average_purchase_frequency_per_customer = purchase_data.groupby('user_id')['transaction_id'].nunique().mean()\n",
    "\n",
    "# Calculate customer lifespan (in this case, let's assume it's the duration between the first and last purchase)\n",
    "customer_lifespan = (purchase_data.groupby('user_id')['event_time'].max() - purchase_data.groupby('user_id')['event_time'].min()).mean()\n",
    "\n",
    "customer_lifespan /=  pd.Timedelta(days=1)\n",
    "\n",
    "# Calculate CLV\n",
    "CLV = average_purchase_value * average_purchase_frequency_per_customer * customer_lifespan\n",
    "\n",
    "#print(average_purchase_value)\n",
    "#print(average_purchase_frequency_per_customer)\n",
    "#print(customer_lifespan)\n",
    "\n",
    "# Display CLV\n",
    "print(\"Average Customer Lifetime Value (CLV):\")\n",
    "print(CLV.mean())\n",
    "print(\"Customer Lifetime Value (CLV):\")\n",
    "print(CLV)"
   ]
  },
  {
   "cell_type": "markdown",
   "id": "7068ab37",
   "metadata": {},
   "source": [
    "# CRR"
   ]
  },
  {
   "cell_type": "markdown",
   "id": "82fb6813",
   "metadata": {},
   "source": [
    "Customer Retention Rate: Customer Retention Rate measures the percentage of customers that a business retains over a given period. It indicates how successful our e-commerce is at keeping its customers engaged and satisfied. A high retention rate is typically a sign of customer loyalty and can lead to sustained revenue growth."
   ]
  },
  {
   "cell_type": "code",
   "execution_count": 8,
   "id": "6032011e",
   "metadata": {},
   "outputs": [
    {
     "name": "stdout",
     "output_type": "stream",
     "text": [
      "Number of Customers in October: 25762\n",
      "Number of Customers in November: 31524\n",
      "Number of Retained Customers from October to November: 4763\n",
      "Number of Churned Customers from October to November: 20999\n",
      "Number of New Customers in November: 26761\n",
      "Customer Retention Rate (CRR) from October to November: 18.488471391972674 %\n"
     ]
    }
   ],
   "source": [
    "# Filter the datasets for 'purchase' events only\n",
    "purchase_data_october = dataset[dataset['event_type'] == 'purchase']\n",
    "purchase_data_november = dataset2[dataset2['event_type'] == 'purchase']\n",
    "\n",
    "# Identify customers who made purchases in October and November\n",
    "customers_october = set(purchase_data_october['user_id'])\n",
    "customers_november = set(purchase_data_november['user_id'])\n",
    "\n",
    "# Calculate Retained, Churned, and New Customers\n",
    "retained_customers = customers_october.intersection(customers_november)\n",
    "churned_customers = customers_october.difference(customers_november)\n",
    "new_customers = customers_november.difference(customers_october)\n",
    "\n",
    "# Calculate the Customer Retention Rate (CRR) from October to November\n",
    "crr = (len(retained_customers) / len(customers_october)) * 100\n",
    "\n",
    "print(\"Number of Customers in October:\", len(customers_october))\n",
    "print(\"Number of Customers in November:\", len(customers_november))\n",
    "print(\"Number of Retained Customers from October to November:\", len(retained_customers))\n",
    "print(\"Number of Churned Customers from October to November:\", len(churned_customers))\n",
    "print(\"Number of New Customers in November:\", len(new_customers))\n",
    "print(\"Customer Retention Rate (CRR) from October to November:\", crr, \"%\")"
   ]
  },
  {
   "cell_type": "markdown",
   "id": "865ed6bf",
   "metadata": {},
   "source": [
    "# AOV"
   ]
  },
  {
   "cell_type": "markdown",
   "id": "fb7a9a80",
   "metadata": {},
   "source": [
    "Average Order Value (AOV): Average Order Value represents the average amount of money customers spend on each transaction. It provides insights into how much and how many items is the customer willing to purchase, this KPI helps in strategizing upselling efforts to increase revenue per transaction."
   ]
  },
  {
   "cell_type": "code",
   "execution_count": 9,
   "id": "167dc5fb",
   "metadata": {},
   "outputs": [
    {
     "name": "stdout",
     "output_type": "stream",
     "text": [
      "Average Order Value (AOV): $4.83\n"
     ]
    }
   ],
   "source": [
    "# Define a function to calculate Average Order Value (AOV)\n",
    "def calculate_aov(total_revenue, num_orders):\n",
    "    if num_orders != 0:\n",
    "        aov = total_revenue / num_orders\n",
    "    else:\n",
    "        # Handle the case where num_orders is zero\n",
    "        aov = 0.0\n",
    "    return aov\n",
    "\n",
    "# Example usage:\n",
    "total_revenue = purchase_data.price.sum()  # Total revenue\n",
    "num_orders = len(purchase_data)      # Number of orders\n",
    "\n",
    "# Calculate AOV\n",
    "aov = calculate_aov(total_revenue, num_orders)\n",
    "print(f\"Average Order Value (AOV): ${aov:.2f}\")"
   ]
  },
  {
   "cell_type": "code",
   "execution_count": 10,
   "id": "fea62ec6",
   "metadata": {},
   "outputs": [
    {
     "name": "stdout",
     "output_type": "stream",
     "text": [
      "Average number of items sold per transaction: 5.00 items\n"
     ]
    }
   ],
   "source": [
    "transactions = combined_data.groupby('user_session')['product_id'].count()\n",
    "\n",
    "# Calculate the average number of items sold per transaction\n",
    "average_items_per_transaction = transactions.mean()\n",
    "\n",
    "print(f\"Average number of items sold per transaction: {int(round(average_items_per_transaction)):.2f} items\")"
   ]
  },
  {
   "cell_type": "markdown",
   "id": "d93296ce",
   "metadata": {},
   "source": [
    "# Returning Customer Rate (RCR)"
   ]
  },
  {
   "cell_type": "markdown",
   "id": "5c626b91",
   "metadata": {},
   "source": [
    "Returning Customer Rate (RCR): RCR measures the percentage of customers who return to make repeat purchases after their initial transaction. It reflects customer satisfaction, loyalty, and the effectiveness of retention strategies. A high RCR indicates strong customer loyalty and contributes to long-term business success."
   ]
  },
  {
   "cell_type": "code",
   "execution_count": 11,
   "id": "34c54a93",
   "metadata": {},
   "outputs": [
    {
     "name": "stdout",
     "output_type": "stream",
     "text": [
      "Returning Customer Rate (RCR) for purchases: 90.79%\n"
     ]
    }
   ],
   "source": [
    "# Step 1: Filter the dataset for purchase events only\n",
    "purchase_data = combined_data[combined_data['event_type'] == 'purchase']\n",
    "\n",
    "# Step 2: Group by user_id and count the number of unique users with more than one purchase event\n",
    "returning_customers = purchase_data.groupby('user_id').filter(lambda x: len(x) > 1)['user_id'].nunique()\n",
    "\n",
    "# Step 3: Calculate the total number of customers\n",
    "total_customers = purchase_data['user_id'].nunique()\n",
    "\n",
    "# Step 4: Calculate the Returning Customer Rate (RCR)\n",
    "returning_customer_rate = (returning_customers / total_customers) * 100\n",
    "\n",
    "print(f\"Returning Customer Rate (RCR) for purchases: {returning_customer_rate:.2f}%\")"
   ]
  },
  {
   "cell_type": "markdown",
   "id": "f7090bfb",
   "metadata": {},
   "source": [
    "# Bounce Rate"
   ]
  },
  {
   "cell_type": "markdown",
   "id": "81492d11",
   "metadata": {},
   "source": [
    "Bounce Rate measures the percentage of visitors who left our e-commerce website after viewing only one product or performing a single action without further engagement. It helps evaluate the effectiveness of website/app usability, content relevance, and user experience. A lower bounce rate indicates higher engagement and user satisfaction."
   ]
  },
  {
   "cell_type": "code",
   "execution_count": 12,
   "id": "1f853f65",
   "metadata": {},
   "outputs": [
    {
     "name": "stdout",
     "output_type": "stream",
     "text": [
      "Bounce Rate: 69.02812728249934 %\n"
     ]
    }
   ],
   "source": [
    "# Calculate the number of sessions with only one interaction (single-product view sessions)\n",
    "single_product_view_sessions = combined_data[combined_data['event_type'] == 'view'].groupby('user_session').filter(lambda x: len(x) == 1)['user_session'].nunique()\n",
    "\n",
    "# Calculate the total number of sessions\n",
    "total_sessions = combined_data['user_session'].nunique()\n",
    "\n",
    "# Calculate the bounce rate\n",
    "bounce_rate = (single_product_view_sessions / total_sessions) * 100\n",
    "\n",
    "print(\"Bounce Rate:\", bounce_rate, \"%\")"
   ]
  },
  {
   "cell_type": "markdown",
   "id": "447ce408",
   "metadata": {},
   "source": [
    "# Conversion Rate"
   ]
  },
  {
   "cell_type": "markdown",
   "id": "272ee532",
   "metadata": {},
   "source": [
    "Conversion Rate measures the percentage of customers who made a purchase. It evaluates the effectiveness of marketing campaigns, website design, and sales strategies. A higher conversion rate indicates better campaign performance and user engagement."
   ]
  },
  {
   "cell_type": "code",
   "execution_count": 13,
   "id": "ff7d3135",
   "metadata": {},
   "outputs": [
    {
     "name": "stdout",
     "output_type": "stream",
     "text": [
      "Conversion Rate: 22.326970605992 %\n"
     ]
    }
   ],
   "source": [
    "# Assuming you have variables 'num_purchases' and 'num_items_added_to_cart'\n",
    "num_purchases = len(combined_data[combined_data['event_type'] == 'purchase'])  \n",
    "num_items_added_to_cart = len(combined_data[combined_data['event_type'] == 'cart'])  \n",
    "\n",
    "# Calculate the conversion rate\n",
    "conversion_rate = (num_purchases / num_items_added_to_cart) * 100\n",
    "\n",
    "print(\"Conversion Rate:\", conversion_rate, \"%\")\n"
   ]
  }
 ],
 "metadata": {
  "kernelspec": {
   "display_name": "Python 3 (ipykernel)",
   "language": "python",
   "name": "python3"
  },
  "language_info": {
   "codemirror_mode": {
    "name": "ipython",
    "version": 3
   },
   "file_extension": ".py",
   "mimetype": "text/x-python",
   "name": "python",
   "nbconvert_exporter": "python",
   "pygments_lexer": "ipython3",
   "version": "3.11.5"
  }
 },
 "nbformat": 4,
 "nbformat_minor": 5
}
